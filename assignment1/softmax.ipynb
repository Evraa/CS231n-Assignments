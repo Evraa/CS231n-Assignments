{
 "cells": [
  {
   "cell_type": "markdown",
   "metadata": {
    "tags": [
     "pdf-title"
    ]
   },
   "source": [
    "# Softmax exercise\n",
    "\n",
    "*Complete and hand in this completed worksheet (including its outputs and any supporting code outside of the worksheet) with your assignment submission. For more details see the [assignments page](http://vision.stanford.edu/teaching/cs231n/assignments.html) on the course website.*\n",
    "\n",
    "This exercise is analogous to the SVM exercise. You will:\n",
    "\n",
    "- implement a fully-vectorized **loss function** for the Softmax classifier\n",
    "- implement the fully-vectorized expression for its **analytic gradient**\n",
    "- **check your implementation** with numerical gradient\n",
    "- use a validation set to **tune the learning rate and regularization** strength\n",
    "- **optimize** the loss function with **SGD**\n",
    "- **visualize** the final learned weights\n"
   ]
  },
  {
   "cell_type": "code",
   "execution_count": 1,
   "metadata": {
    "tags": [
     "pdf-ignore"
    ]
   },
   "outputs": [],
   "source": [
    "import random\n",
    "import numpy as np\n",
    "from cs231n.data_utils import load_CIFAR10\n",
    "import matplotlib.pyplot as plt\n",
    "\n",
    "%matplotlib inline\n",
    "plt.rcParams['figure.figsize'] = (10.0, 8.0) # set default size of plots\n",
    "plt.rcParams['image.interpolation'] = 'nearest'\n",
    "plt.rcParams['image.cmap'] = 'gray'\n",
    "\n",
    "# for auto-reloading extenrnal modules\n",
    "# see http://stackoverflow.com/questions/1907993/autoreload-of-modules-in-ipython\n",
    "%load_ext autoreload\n",
    "%autoreload 2"
   ]
  },
  {
   "cell_type": "code",
   "execution_count": 2,
   "metadata": {
    "tags": [
     "pdf-ignore"
    ]
   },
   "outputs": [
    {
     "name": "stdout",
     "output_type": "stream",
     "text": [
      "Train data shape:  (49000, 3073)\n",
      "Train labels shape:  (49000,)\n",
      "Validation data shape:  (1000, 3073)\n",
      "Validation labels shape:  (1000,)\n",
      "Test data shape:  (1000, 3073)\n",
      "Test labels shape:  (1000,)\n",
      "dev data shape:  (500, 3073)\n",
      "dev labels shape:  (500,)\n"
     ]
    }
   ],
   "source": [
    "def get_CIFAR10_data(num_training=49000, num_validation=1000, num_test=1000, num_dev=500):\n",
    "    \"\"\"\n",
    "    Load the CIFAR-10 dataset from disk and perform preprocessing to prepare\n",
    "    it for the linear classifier. These are the same steps as we used for the\n",
    "    SVM, but condensed to a single function.  \n",
    "    \"\"\"\n",
    "    # Load the raw CIFAR-10 data\n",
    "    cifar10_dir = 'cs231n/datasets/cifar-10-batches-py'\n",
    "    \n",
    "    # Cleaning up variables to prevent loading data multiple times (which may cause memory issue)\n",
    "    try:\n",
    "       del X_train, y_train\n",
    "       del X_test, y_test\n",
    "       print('Clear previously loaded data.')\n",
    "    except:\n",
    "       pass\n",
    "\n",
    "    X_train, y_train, X_test, y_test = load_CIFAR10(cifar10_dir)\n",
    "    \n",
    "    # subsample the data\n",
    "    mask = list(range(num_training, num_training + num_validation))\n",
    "    \n",
    "    X_val = X_train[mask]\n",
    "    y_val = y_train[mask]\n",
    "    mask = list(range(num_training))\n",
    "    X_train = X_train[mask]\n",
    "    y_train = y_train[mask]\n",
    "    mask = list(range(num_test))\n",
    "    X_test = X_test[mask]\n",
    "    y_test = y_test[mask]\n",
    "    mask = np.random.choice(num_training, num_dev, replace=False)\n",
    "    X_dev = X_train[mask]\n",
    "    y_dev = y_train[mask]\n",
    "    \n",
    "    # Preprocessing: reshape the image data into rows\n",
    "    X_train = np.reshape(X_train, (X_train.shape[0], -1))\n",
    "    X_val = np.reshape(X_val, (X_val.shape[0], -1))\n",
    "    X_test = np.reshape(X_test, (X_test.shape[0], -1))\n",
    "    X_dev = np.reshape(X_dev, (X_dev.shape[0], -1))\n",
    "    \n",
    "    # Normalize the data: subtract the mean image\n",
    "    mean_image = np.mean(X_train, axis = 0)\n",
    "    X_train -= mean_image\n",
    "    X_val -= mean_image\n",
    "    X_test -= mean_image\n",
    "    X_dev -= mean_image\n",
    "    \n",
    "    # add bias dimension and transform into columns\n",
    "    X_train = np.hstack([X_train, np.ones((X_train.shape[0], 1))])\n",
    "    X_val = np.hstack([X_val, np.ones((X_val.shape[0], 1))])\n",
    "    X_test = np.hstack([X_test, np.ones((X_test.shape[0], 1))])\n",
    "    X_dev = np.hstack([X_dev, np.ones((X_dev.shape[0], 1))])\n",
    "    \n",
    "    return X_train, y_train, X_val, y_val, X_test, y_test, X_dev, y_dev\n",
    "\n",
    "\n",
    "# Invoke the above function to get our data.\n",
    "X_train, y_train, X_val, y_val, X_test, y_test, X_dev, y_dev = get_CIFAR10_data()\n",
    "print('Train data shape: ', X_train.shape)\n",
    "print('Train labels shape: ', y_train.shape)\n",
    "print('Validation data shape: ', X_val.shape)\n",
    "print('Validation labels shape: ', y_val.shape)\n",
    "print('Test data shape: ', X_test.shape)\n",
    "print('Test labels shape: ', y_test.shape)\n",
    "print('dev data shape: ', X_dev.shape)\n",
    "print('dev labels shape: ', y_dev.shape)"
   ]
  },
  {
   "cell_type": "markdown",
   "metadata": {},
   "source": [
    "## Softmax Classifier\n",
    "\n",
    "Your code for this section will all be written inside **cs231n/classifiers/softmax.py**. \n"
   ]
  },
  {
   "cell_type": "code",
   "execution_count": 3,
   "metadata": {},
   "outputs": [
    {
     "name": "stdout",
     "output_type": "stream",
     "text": [
      "loss: 2.812391\n",
      "sanity check: 2.302585\n"
     ]
    }
   ],
   "source": [
    "# First implement the naive softmax loss function with nested loops.\n",
    "# Open the file cs231n/classifiers/softmax.py and implement the\n",
    "# softmax_loss_naive function.\n",
    "\n",
    "from cs231n.classifiers.softmax import softmax_loss_naive\n",
    "import time\n",
    "\n",
    "# Generate a random softmax weight matrix and use it to compute the loss.\n",
    "W = np.random.randn(3073, 10) * 0.0001\n",
    "loss, grad = softmax_loss_naive(W, X_dev, y_dev, 0.0)\n",
    "\n",
    "# As a rough sanity check, our loss should be something close to -log(0.1).\n",
    "print('loss: %f' % loss)\n",
    "print('sanity check: %f' % (-np.log(0.1)))"
   ]
  },
  {
   "cell_type": "markdown",
   "metadata": {
    "tags": [
     "pdf-inline"
    ]
   },
   "source": [
    "**Inline Question 1**\n",
    "\n",
    "Why do we expect our loss to be close to -log(0.1)? Explain briefly.**\n",
    "\n",
    "$\\color{blue}{\\textit Your Answer:}$ *Fill this in* \n",
    "\n"
   ]
  },
  {
   "cell_type": "code",
   "execution_count": 4,
   "metadata": {},
   "outputs": [
    {
     "name": "stdout",
     "output_type": "stream",
     "text": [
      "numerical: 14.227433 analytic: 14.227434, relative error: 5.675804e-08\n",
      "numerical: -7.994726 analytic: -7.994719, relative error: 4.313299e-07\n",
      "numerical: 8.874003 analytic: 8.874008, relative error: 2.426026e-07\n",
      "numerical: 17.530299 analytic: 17.530300, relative error: 3.788563e-08\n",
      "numerical: -35.745974 analytic: -35.745969, relative error: 7.162985e-08\n",
      "numerical: 8.781592 analytic: 8.781595, relative error: 1.861295e-07\n",
      "numerical: 15.480729 analytic: 15.480730, relative error: 3.781099e-08\n",
      "numerical: 13.584626 analytic: 13.584627, relative error: 5.579514e-08\n",
      "numerical: -44.958107 analytic: -44.958104, relative error: 3.316485e-08\n",
      "numerical: 2.330405 analytic: 2.330410, relative error: 9.410460e-07\n",
      "numerical: -11.107459 analytic: -11.107452, relative error: 3.362772e-07\n",
      "numerical: 13.338179 analytic: 13.338182, relative error: 1.153946e-07\n",
      "numerical: 2.599405 analytic: 2.599410, relative error: 9.515460e-07\n",
      "numerical: 4.962823 analytic: 4.962828, relative error: 5.341795e-07\n",
      "numerical: 2.528905 analytic: 2.528909, relative error: 9.031800e-07\n",
      "numerical: 5.575094 analytic: 5.575099, relative error: 3.849371e-07\n",
      "numerical: 13.652682 analytic: 13.652684, relative error: 6.272945e-08\n",
      "numerical: 6.556381 analytic: 6.556385, relative error: 3.123759e-07\n",
      "numerical: 14.791736 analytic: 14.791739, relative error: 1.055095e-07\n",
      "numerical: 9.285161 analytic: 9.285163, relative error: 1.347970e-07\n"
     ]
    }
   ],
   "source": [
    "# Complete the implementation of softmax_loss_naive and implement a (naive)\n",
    "# version of the gradient that uses nested loops.\n",
    "loss, grad = softmax_loss_naive(W, X_dev, y_dev, 0.0)\n",
    "\n",
    "# As we did for the SVM, use numeric gradient checking as a debugging tool.\n",
    "# The numeric gradient should be close to the analytic gradient.\n",
    "from cs231n.gradient_check import grad_check_sparse\n",
    "f = lambda w: softmax_loss_naive(w, X_dev, y_dev, 0.0)[0]\n",
    "grad_numerical = grad_check_sparse(f, W, grad, 10)\n",
    "\n",
    "# similar to SVM case, do another gradient check with regularization\n",
    "loss, grad = softmax_loss_naive(W, X_dev, y_dev, 5e1)\n",
    "f = lambda w: softmax_loss_naive(w, X_dev, y_dev, 5e1)[0]\n",
    "grad_numerical = grad_check_sparse(f, W, grad, 10)"
   ]
  },
  {
   "cell_type": "code",
   "execution_count": 5,
   "metadata": {},
   "outputs": [
    {
     "name": "stdout",
     "output_type": "stream",
     "text": [
      "naive loss: 2.812391e+00 computed in 0.193483s\n",
      "vectorized loss: 2.812391e+00 computed in 0.012980s\n",
      "Loss difference: 0.000000\n",
      "Gradient difference: 0.000000\n"
     ]
    }
   ],
   "source": [
    "# Now that we have a naive implementation of the softmax loss function and its gradient,\n",
    "# implement a vectorized version in softmax_loss_vectorized.\n",
    "# The two versions should compute the same results, but the vectorized version should be\n",
    "# much faster.\n",
    "tic = time.time()\n",
    "loss_naive, grad_naive = softmax_loss_naive(W, X_dev, y_dev, 0.000005)\n",
    "toc = time.time()\n",
    "print('naive loss: %e computed in %fs' % (loss_naive, toc - tic))\n",
    "\n",
    "from cs231n.classifiers.softmax import softmax_loss_vectorized\n",
    "tic = time.time()\n",
    "loss_vectorized, grad_vectorized = softmax_loss_vectorized(W, X_dev, y_dev, 0.000005)\n",
    "toc = time.time()\n",
    "print('vectorized loss: %e computed in %fs' % (loss_vectorized, toc - tic))\n",
    "\n",
    "# As we did for the SVM, we use the Frobenius norm to compare the two versions\n",
    "# of the gradient.\n",
    "grad_difference = np.linalg.norm(grad_naive - grad_vectorized, ord='fro')\n",
    "print('Loss difference: %f' % np.abs(loss_naive - loss_vectorized))\n",
    "print('Gradient difference: %f' % grad_difference)"
   ]
  },
  {
   "cell_type": "code",
   "execution_count": 6,
   "metadata": {
    "tags": [
     "code"
    ]
   },
   "outputs": [
    {
     "name": "stdout",
     "output_type": "stream",
     "text": [
      "trying: 1e-07 with 25000.0\n",
      "trying: 1e-07 with 31250.0\n",
      "trying: 1e-07 with 37500.0\n",
      "trying: 1e-07 with 43750.0\n",
      "trying: 1e-07 with 50000.0\n",
      "trying: 2e-07 with 25000.0\n",
      "trying: 2e-07 with 31250.0\n",
      "trying: 2e-07 with 37500.0\n",
      "trying: 2e-07 with 43750.0\n",
      "trying: 2e-07 with 50000.0\n",
      "trying: 3e-07 with 25000.0\n",
      "trying: 3e-07 with 31250.0\n",
      "trying: 3e-07 with 37500.0\n",
      "trying: 3e-07 with 43750.0\n",
      "trying: 3e-07 with 50000.0\n",
      "trying: 4e-07 with 25000.0\n",
      "trying: 4e-07 with 31250.0\n",
      "trying: 4e-07 with 37500.0\n",
      "trying: 4e-07 with 43750.0\n",
      "trying: 4e-07 with 50000.0\n",
      "trying: 5e-07 with 25000.0\n",
      "trying: 5e-07 with 31250.0\n",
      "trying: 5e-07 with 37500.0\n",
      "trying: 5e-07 with 43750.0\n",
      "trying: 5e-07 with 50000.0\n",
      "lr 1.000000e-07 reg 2.500000e+04 train accuracy: 0.343041 val accuracy: 0.355000\n",
      "lr 1.000000e-07 reg 3.125000e+04 train accuracy: 0.330061 val accuracy: 0.328000\n",
      "lr 1.000000e-07 reg 3.750000e+04 train accuracy: 0.329571 val accuracy: 0.335000\n",
      "lr 1.000000e-07 reg 4.375000e+04 train accuracy: 0.328102 val accuracy: 0.339000\n",
      "lr 1.000000e-07 reg 5.000000e+04 train accuracy: 0.325041 val accuracy: 0.330000\n",
      "lr 2.000000e-07 reg 2.500000e+04 train accuracy: 0.340041 val accuracy: 0.347000\n",
      "lr 2.000000e-07 reg 3.125000e+04 train accuracy: 0.335918 val accuracy: 0.354000\n",
      "lr 2.000000e-07 reg 3.750000e+04 train accuracy: 0.320673 val accuracy: 0.332000\n",
      "lr 2.000000e-07 reg 4.375000e+04 train accuracy: 0.311224 val accuracy: 0.327000\n",
      "lr 2.000000e-07 reg 5.000000e+04 train accuracy: 0.324327 val accuracy: 0.327000\n",
      "lr 3.000000e-07 reg 2.500000e+04 train accuracy: 0.326592 val accuracy: 0.333000\n",
      "lr 3.000000e-07 reg 3.125000e+04 train accuracy: 0.322306 val accuracy: 0.328000\n",
      "lr 3.000000e-07 reg 3.750000e+04 train accuracy: 0.308898 val accuracy: 0.325000\n",
      "lr 3.000000e-07 reg 4.375000e+04 train accuracy: 0.303449 val accuracy: 0.317000\n",
      "lr 3.000000e-07 reg 5.000000e+04 train accuracy: 0.263204 val accuracy: 0.275000\n",
      "lr 4.000000e-07 reg 2.500000e+04 train accuracy: 0.263918 val accuracy: 0.289000\n",
      "lr 4.000000e-07 reg 3.125000e+04 train accuracy: 0.280531 val accuracy: 0.300000\n",
      "lr 4.000000e-07 reg 3.750000e+04 train accuracy: 0.243020 val accuracy: 0.256000\n",
      "lr 4.000000e-07 reg 4.375000e+04 train accuracy: 0.231776 val accuracy: 0.244000\n",
      "lr 4.000000e-07 reg 5.000000e+04 train accuracy: 0.290694 val accuracy: 0.317000\n",
      "lr 5.000000e-07 reg 2.500000e+04 train accuracy: 0.227980 val accuracy: 0.230000\n",
      "lr 5.000000e-07 reg 3.125000e+04 train accuracy: 0.247143 val accuracy: 0.262000\n",
      "lr 5.000000e-07 reg 3.750000e+04 train accuracy: 0.267959 val accuracy: 0.269000\n",
      "lr 5.000000e-07 reg 4.375000e+04 train accuracy: 0.225347 val accuracy: 0.244000\n",
      "lr 5.000000e-07 reg 5.000000e+04 train accuracy: 0.174122 val accuracy: 0.188000\n",
      "best validation accuracy achieved during cross-validation: 0.355000\n"
     ]
    }
   ],
   "source": [
    "# Use the validation set to tune hyperparameters (regularization strength and\n",
    "# learning rate). You should experiment with different ranges for the learning\n",
    "# rates and regularization strengths; if you are careful you should be able to\n",
    "# get a classification accuracy of over 0.35 on the validation set.\n",
    "from cs231n.classifiers import Softmax\n",
    "results = {}\n",
    "best_val = -1\n",
    "best_softmax = None\n",
    "learning_rates = [1e-7, 5e-7]\n",
    "regularization_strengths = [2.5e4, 5e4]\n",
    "\n",
    "################################################################################\n",
    "# TODO:                                                                        #\n",
    "# Use the validation set to set the learning rate and regularization strength. #\n",
    "# This should be identical to the validation that you did for the SVM; save    #\n",
    "# the best trained softmax classifer in best_softmax.                          #\n",
    "################################################################################\n",
    "# *****START OF YOUR CODE (DO NOT DELETE/MODIFY THIS LINE)*****\n",
    "\n",
    "step_size = 5\n",
    "LR_list = np.linspace(learning_rates[0],learning_rates[1],step_size)\n",
    "RS_list = np.linspace(regularization_strengths[0],regularization_strengths[1],step_size)\n",
    "\n",
    "for lr in LR_list:\n",
    "    for rs in RS_list:\n",
    "        print (f'trying: {lr} with {rs}')\n",
    "        softmax_obj = Softmax()\n",
    "        softmax_obj.train(X_train, y_train, learning_rate=lr, reg=rs, num_iters=1500, batch_size=200, verbose=False)\n",
    "        #Prediction of training\n",
    "        y_train_pred = softmax_obj.predict(X_train)\n",
    "        train_acc = np.mean(y_train == y_train_pred)\n",
    "        #Prediction of validation\n",
    "        y_val_pred = softmax_obj.predict(X_val)\n",
    "        val_acc = np.mean(y_val == y_val_pred)\n",
    "        #Append results\n",
    "        results[(lr,rs)] = (train_acc,val_acc)\n",
    "        #mark best\n",
    "        if val_acc > best_val:\n",
    "            best_val = val_acc\n",
    "            best_softmax = softmax_obj\n",
    "\n",
    "# *****END OF YOUR CODE (DO NOT DELETE/MODIFY THIS LINE)*****\n",
    "    \n",
    "# Print out results.\n",
    "for lr, reg in sorted(results):\n",
    "    train_accuracy, val_accuracy = results[(lr, reg)]\n",
    "    print('lr %e reg %e train accuracy: %f val accuracy: %f' % (\n",
    "                lr, reg, train_accuracy, val_accuracy))\n",
    "    \n",
    "print('best validation accuracy achieved during cross-validation: %f' % best_val)"
   ]
  },
  {
   "cell_type": "code",
   "execution_count": 7,
   "metadata": {},
   "outputs": [
    {
     "name": "stdout",
     "output_type": "stream",
     "text": [
      "softmax on raw pixels final test set accuracy: 0.339000\n"
     ]
    }
   ],
   "source": [
    "# evaluate on test set\n",
    "# Evaluate the best softmax on test set\n",
    "y_test_pred = best_softmax.predict(X_test)\n",
    "test_accuracy = np.mean(y_test == y_test_pred)\n",
    "print('softmax on raw pixels final test set accuracy: %f' % (test_accuracy, ))"
   ]
  },
  {
   "cell_type": "markdown",
   "metadata": {
    "tags": [
     "pdf-inline"
    ]
   },
   "source": [
    "**Inline Question 2** - *True or False*\n",
    "\n",
    "Suppose the overall training loss is defined as the sum of the per-datapoint loss over all training examples. It is possible to add a new datapoint to a training set that would leave the SVM loss unchanged, but this is not the case with the Softmax classifier loss.\n",
    "\n",
    "$\\color{blue}{\\textit Your Answer:}$\n",
    "\n",
    "\n",
    "$\\color{blue}{\\textit Your Explanation:}$\n",
    "\n"
   ]
  },
  {
   "cell_type": "code",
   "execution_count": 8,
   "metadata": {},
   "outputs": [
    {
     "data": {
      "image/png": "[encoded data removed]",
      "text/plain": [
       "<Figure size 432x288 with 10 Axes>"
      ]
     },
     "metadata": {
      "needs_background": "light"
     },
     "output_type": "display_data"
    }
   ],
   "source": [
    "# Visualize the learned weights for each class\n",
    "w = best_softmax.W[:-1,:] # strip out the bias\n",
    "w = w.reshape(32, 32, 3, 10)\n",
    "\n",
    "w_min, w_max = np.min(w), np.max(w)\n",
    "\n",
    "classes = ['plane', 'car', 'bird', 'cat', 'deer', 'dog', 'frog', 'horse', 'ship', 'truck']\n",
    "for i in range(10):\n",
    "    plt.subplot(2, 5, i + 1)\n",
    "    \n",
    "    # Rescale the weights to be between 0 and 255\n",
    "    wimg = 255.0 * (w[:, :, :, i].squeeze() - w_min) / (w_max - w_min)\n",
    "    plt.imshow(wimg.astype('uint8'))\n",
    "    plt.axis('off')\n",
    "    plt.title(classes[i])"
   ]
  },
  {
   "cell_type": "code",
   "execution_count": null,
   "metadata": {},
   "outputs": [],
   "source": []
  }
 ],
 "metadata": {
  "kernelspec": {
   "display_name": "Python 3",
   "language": "python",
   "name": "python3"
  },
  "language_info": {
   "codemirror_mode": {
    "name": "ipython",
    "version": 3
   },
   "file_extension": ".py",
   "mimetype": "text/x-python",
   "name": "python",
   "nbconvert_exporter": "python",
   "pygments_lexer": "ipython3",
   "version": "3.7.3"
  }
 },
 "nbformat": 4,
 "nbformat_minor": 1
}
